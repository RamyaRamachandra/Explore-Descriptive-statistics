{
 "cells": [
  {
   "cell_type": "code",
   "execution_count": null,
   "id": "90f3d462",
   "metadata": {},
   "outputs": [],
   "source": [
    "# Import relevant Python libraries.\n",
    "import pandas as pd\n",
    "import numpy as np\n"
   ]
  },
  {
   "cell_type": "code",
   "execution_count": null,
   "id": "93659be7",
   "metadata": {},
   "outputs": [],
   "source": [
    "# RUN THIS CELL TO IMPORT YOUR DATA.\n",
    "epa_data = pd.read_csv(\"c4_epa_air_quality.csv\", index_col = 0)\n"
   ]
  },
  {
   "cell_type": "code",
   "execution_count": null,
   "id": "82ed60a1",
   "metadata": {},
   "outputs": [],
   "source": [
    "# Display first 10 rows of the data.\n",
    "epa_data.head(10)\n"
   ]
  },
  {
   "cell_type": "code",
   "execution_count": null,
   "id": "c89feb1a",
   "metadata": {},
   "outputs": [],
   "source": [
    "# Get descriptive stats.\n",
    "epa_data.describe()\n"
   ]
  },
  {
   "cell_type": "code",
   "execution_count": null,
   "id": "133d31c4",
   "metadata": {},
   "outputs": [],
   "source": [
    "# Get descriptive stats about the states in the data.\n",
    "epa_data['state_name'].describe()\n"
   ]
  },
  {
   "cell_type": "code",
   "execution_count": null,
   "id": "dab13ee2",
   "metadata": {},
   "outputs": [],
   "source": [
    "count            260\n",
    "unique            52\n",
    "top       California\n",
    "freq              66\n",
    "Name: state_name, dtype: object"
   ]
  },
  {
   "cell_type": "code",
   "execution_count": null,
   "id": "017250a3",
   "metadata": {},
   "outputs": [],
   "source": [
    "# Compute the mean value from the aqi column.\n",
    "np.mean(epa_data['aqi'])\n"
   ]
  },
  {
   "cell_type": "code",
   "execution_count": null,
   "id": "d083942b",
   "metadata": {},
   "outputs": [],
   "source": [
    "6.757692307692308"
   ]
  },
  {
   "cell_type": "code",
   "execution_count": null,
   "id": "e4097525",
   "metadata": {},
   "outputs": [],
   "source": [
    "# Compute the median value from the aqi column.\n",
    "np.median(epa_data['aqi'])\n"
   ]
  },
  {
   "cell_type": "code",
   "execution_count": null,
   "id": "46d092ef",
   "metadata": {},
   "outputs": [],
   "source": [
    "5.0"
   ]
  },
  {
   "cell_type": "code",
   "execution_count": null,
   "id": "1f28ee8c",
   "metadata": {},
   "outputs": [],
   "source": [
    "# Identify the minimum value from the aqi column.\n",
    "np.min(epa_data['aqi'])\n"
   ]
  },
  {
   "cell_type": "code",
   "execution_count": null,
   "id": "913eb81c",
   "metadata": {},
   "outputs": [],
   "source": [
    "0"
   ]
  },
  {
   "cell_type": "code",
   "execution_count": null,
   "id": "e0293811",
   "metadata": {},
   "outputs": [],
   "source": [
    "# Identify the maximum value from the aqi column.\n",
    "np.max(epa_data['aqi'])\n"
   ]
  },
  {
   "cell_type": "code",
   "execution_count": null,
   "id": "efe8bde4",
   "metadata": {},
   "outputs": [],
   "source": [
    "50"
   ]
  },
  {
   "cell_type": "code",
   "execution_count": null,
   "id": "56b8b9b6",
   "metadata": {},
   "outputs": [],
   "source": [
    "# Compute the standard deviation for the aqi column.\n",
    "np.std(epa_data['aqi'])\n"
   ]
  },
  {
   "cell_type": "code",
   "execution_count": null,
   "id": "00af5f93",
   "metadata": {},
   "outputs": [],
   "source": [
    "7.048113390607722"
   ]
  },
  {
   "cell_type": "markdown",
   "id": "e6fed8c3",
   "metadata": {},
   "source": [
    "Activity: Explore descriptive statistics¶"
   ]
  },
  {
   "cell_type": "markdown",
   "id": "f282970f",
   "metadata": {},
   "source": [
    "Introduction¶"
   ]
  },
  {
   "cell_type": "markdown",
   "id": "820d066d",
   "metadata": {},
   "source": [
    "Data professionals often use descriptive statistics to understand the data they are working with and provide collaborators with a summary of the relative location of values in the data, as well an information about its spread."
   ]
  },
  {
   "cell_type": "markdown",
   "id": "43748996",
   "metadata": {},
   "source": [
    "For this activity, you are a member of an analytics team for the United States Environmental Protection Agency (EPA). You are assigned to analyze data on air quality with respect to carbon monoxide, a major air pollutant. The data includes information from more than 200 sites, identified by state, county, city, and local site names. You will use Python functions to gather statistics about air quality, then share insights with stakeholders."
   ]
  },
  {
   "cell_type": "markdown",
   "id": "3d17696f",
   "metadata": {},
   "source": [
    "Step 1: Imports¶"
   ]
  },
  {
   "cell_type": "markdown",
   "id": "c486a2a4",
   "metadata": {},
   "source": [
    "Import the relevant Python libraries pandas and numpy."
   ]
  },
  {
   "cell_type": "markdown",
   "id": "d90acf61",
   "metadata": {},
   "source": [
    "The dataset provided is in the form of a .csv file named c4_epa_air_quality.csv. It contains a subset of data from the U.S. EPA. As shown in this cell, the dataset has been automatically loaded in for you. You do not need to download the .csv file, or provide more code, in order to access the dataset and proceed with this lab. Please continue with this activity by completing the following instructions."
   ]
  },
  {
   "cell_type": "markdown",
   "id": "cc6f8983",
   "metadata": {},
   "source": [
    "Step 2: Data exploration¶"
   ]
  },
  {
   "cell_type": "markdown",
   "id": "414ba01d",
   "metadata": {},
   "source": [
    "To understand how the dataset is structured, display the first 10 rows of the data."
   ]
  },
  {
   "cell_type": "markdown",
   "id": "97b51277",
   "metadata": {},
   "source": [
    "Question: What does the aqi column represent?"
   ]
  },
  {
   "cell_type": "markdown",
   "id": "6f83e766",
   "metadata": {},
   "source": [
    "the aqi column represents the EPA's Air Qaulity Index(AQI)."
   ]
  },
  {
   "cell_type": "markdown",
   "id": "9d27caa8",
   "metadata": {},
   "source": [
    "Now, get a table that contains some descriptive statistics about the data."
   ]
  },
  {
   "cell_type": "markdown",
   "id": "7472018f",
   "metadata": {},
   "source": [
    "Question: Based on the table of descriptive statistics, what do you notice about the count value for the aqi column?"
   ]
  },
  {
   "cell_type": "markdown",
   "id": "9222e5ae",
   "metadata": {},
   "source": [
    "The count value for the aqi column is 260. Thismeans there are 260 aqi measurements represented in this dataset."
   ]
  },
  {
   "cell_type": "markdown",
   "id": "382c2a83",
   "metadata": {},
   "source": [
    "Question: What do you notice about the 25th percentile for the aqi column?"
   ]
  },
  {
   "cell_type": "markdown",
   "id": "ff9a7a4a",
   "metadata": {},
   "source": [
    "This is an important measure for understanding where the aqi values lie."
   ]
  },
  {
   "cell_type": "markdown",
   "id": "ac613b40",
   "metadata": {},
   "source": [
    "The 25th percentile for the aqi coulmn is 2. This means that 25% of the aqi values in the data are below 2."
   ]
  },
  {
   "cell_type": "markdown",
   "id": "a9cc7889",
   "metadata": {},
   "source": [
    "Question: What do you notice about the 75th percentile for the aqi column?"
   ]
  },
  {
   "cell_type": "markdown",
   "id": "d7d19749",
   "metadata": {},
   "source": [
    "This is another important measure for understanding where the aqi values lie."
   ]
  },
  {
   "cell_type": "markdown",
   "id": "29aeca54",
   "metadata": {},
   "source": [
    "The 7th percentile for the aqi column is 9. This means that 5% of the aqi values in the data are below 9."
   ]
  },
  {
   "cell_type": "markdown",
   "id": "b9c61409",
   "metadata": {},
   "source": [
    "Step 3: Statistical tests¶"
   ]
  },
  {
   "cell_type": "markdown",
   "id": "24c6a3c5",
   "metadata": {},
   "source": [
    "Next, get some descriptive statistics about the states in the data."
   ]
  },
  {
   "cell_type": "markdown",
   "id": "b452def4",
   "metadata": {},
   "source": [
    "Question: What do you notice while reviewing the descriptive statistics about the states in the data?"
   ]
  },
  {
   "cell_type": "markdown",
   "id": "8330e051",
   "metadata": {},
   "source": [
    "Note: Sometimes you have to individually calculate statistics. To review to that approach, use the numpy library to calculate each of the main statistics in the preceding table for the aqi column."
   ]
  },
  {
   "cell_type": "markdown",
   "id": "d64c49c3",
   "metadata": {},
   "source": [
    "There are 260 state values, and 52 of them are unique. California is the most commonly occurring state in the data, with a frequency of 66. (In other words, 66 entries in the data correspond to aqi measurements taken in California.)"
   ]
  },
  {
   "cell_type": "markdown",
   "id": "4c7d32c0",
   "metadata": {},
   "source": [
    "Step 4. Results and evaluation¶"
   ]
  },
  {
   "cell_type": "markdown",
   "id": "d1994a5b",
   "metadata": {},
   "source": [
    "Now, compute the mean value from the aqi column."
   ]
  },
  {
   "cell_type": "markdown",
   "id": "97751d7f",
   "metadata": {},
   "source": [
    "Question: What do you notice about the mean value from the aqi column?"
   ]
  },
  {
   "cell_type": "markdown",
   "id": "87255c4c",
   "metadata": {},
   "source": [
    "This is an important measure, as it tells you what the average air quality is based on the data."
   ]
  },
  {
   "cell_type": "markdown",
   "id": "a8c9ea6d",
   "metadata": {},
   "source": [
    "The mean value for the aqi column is approximately 6.76 (rounding to 2 decimal places here). This means that the average aqi from the data is approximatel 6.76."
   ]
  },
  {
   "cell_type": "markdown",
   "id": "ed988c98",
   "metadata": {},
   "source": [
    "Next, compute the median value from the aqi column."
   ]
  },
  {
   "cell_type": "markdown",
   "id": "adb2bed4",
   "metadata": {},
   "source": [
    "Question: What do you notice about the median value from the aqi column?"
   ]
  },
  {
   "cell_type": "markdown",
   "id": "89416830",
   "metadata": {},
   "source": [
    "This is an important measure for understanding the central location of the data."
   ]
  },
  {
   "cell_type": "markdown",
   "id": "4ef0783b",
   "metadata": {},
   "source": [
    "The median value for the aqi column is 5.0. This means that half of the aqi values in the data are below 5."
   ]
  },
  {
   "cell_type": "markdown",
   "id": "df480bb6",
   "metadata": {},
   "source": [
    "Next, identify the minimum value from the aqi column."
   ]
  },
  {
   "cell_type": "markdown",
   "id": "af756d7c",
   "metadata": {},
   "source": [
    "Question: What do you notice about the minimum value from the aqi column?"
   ]
  },
  {
   "cell_type": "markdown",
   "id": "24d73c5e",
   "metadata": {},
   "source": [
    "This is an important measure, as it tell you the best air quality observed in the data."
   ]
  },
  {
   "cell_type": "markdown",
   "id": "173f1730",
   "metadata": {},
   "source": [
    "The minimum value for the aqi column is 0. This means that the smallest aqi value in the data is 0."
   ]
  },
  {
   "cell_type": "markdown",
   "id": "b9e89dcc",
   "metadata": {},
   "source": [
    "Now, identify the maximum value from the aqi column."
   ]
  },
  {
   "cell_type": "markdown",
   "id": "df67bed5",
   "metadata": {},
   "source": [
    "Question: What do you notice about the maximum value from the aqi column?"
   ]
  },
  {
   "cell_type": "markdown",
   "id": "8fa4d372",
   "metadata": {},
   "source": [
    "This is an important measure, as it tells you which value in the data corresponds to the worst air quality observed in the data."
   ]
  },
  {
   "cell_type": "markdown",
   "id": "759ea874",
   "metadata": {},
   "source": [
    "The maximum value for the aqi column is 50. This means that the largest aqi value in the data is 50."
   ]
  },
  {
   "cell_type": "markdown",
   "id": "4a487e80",
   "metadata": {},
   "source": [
    "Now, compute the standard deviation for the aqi column."
   ]
  },
  {
   "cell_type": "markdown",
   "id": "b45ca95f",
   "metadata": {},
   "source": [
    "By default, the numpy library uses 0 as the Delta Degrees of Freedom, while pandas library uses 1. To get the same value for standard deviation using either library, specify the ddof parameter to 1 when calculating standard deviation."
   ]
  },
  {
   "cell_type": "markdown",
   "id": "0d7e0a88",
   "metadata": {},
   "source": [
    "Question: What do you notice about the standard deviation for the aqi column?"
   ]
  },
  {
   "cell_type": "markdown",
   "id": "01164aec",
   "metadata": {},
   "source": [
    "This is an important measure of how spread out the aqi values are."
   ]
  },
  {
   "cell_type": "markdown",
   "id": "a57e2c69",
   "metadata": {},
   "source": [
    "The standard deviation for the aqi column is approximately 7.05 (rounding to 2 decimal places here). This is a measure of how spread out the aqi values are in the data."
   ]
  },
  {
   "cell_type": "markdown",
   "id": "8120090e",
   "metadata": {},
   "source": [
    "Considerations¶"
   ]
  },
  {
   "cell_type": "markdown",
   "id": "d2f0477d",
   "metadata": {},
   "source": [
    "What are some key takeaways that you learned during this lab?"
   ]
  },
  {
   "cell_type": "markdown",
   "id": "a4cf188f",
   "metadata": {},
   "source": [
    "Functions in the pandas and numpy libraries can be used to find statistics that describe a dataset. The describe() function from pandas generates a table of descriptive statistics about numerical or categorical columns. The mean(), median(), min(), max(), and std() functions from numpy are useful for finding individual statistics about numerical data."
   ]
  },
  {
   "cell_type": "markdown",
   "id": "959713a0",
   "metadata": {},
   "source": [
    "How would you present your findings from this lab to others? Consider the following relevant points noted by AirNow.gov as you respond:"
   ]
  },
  {
   "cell_type": "markdown",
   "id": "013e169f",
   "metadata": {},
   "source": [
    "The average AQI value in the data is approximately 6.76, which is considered safe with respect to carbon monoxide. Further, 75% of the AQI values are below 9."
   ]
  },
  {
   "cell_type": "markdown",
   "id": "b4201836",
   "metadata": {},
   "source": [
    "What summary would you provide to stakeholders? Use the same information provided previously from AirNow.gov as you respond."
   ]
  },
  {
   "cell_type": "markdown",
   "id": "61c0653c",
   "metadata": {},
   "source": [
    "References"
   ]
  },
  {
   "cell_type": "markdown",
   "id": "0cfcd5c8",
   "metadata": {},
   "source": [
    "Air Quality Index - A Guide to Air Quality and Your Health. (2014,February)"
   ]
  },
  {
   "cell_type": "markdown",
   "id": "181d8afa",
   "metadata": {},
   "source": [
    "Numpy.Std — NumPy v1.23 Manual"
   ]
  },
  {
   "cell_type": "markdown",
   "id": "253630af",
   "metadata": {},
   "source": [
    "US EPA, OAR. (2014, 8 July).Air Data: Air Quality Data Collected at Outdoor Monitors Across the US."
   ]
  },
  {
   "cell_type": "markdown",
   "id": "bc6eb661",
   "metadata": {},
   "source": [
    "Congratulations! You've completed this lab. However, you may not notice a green check mark next to this item on Coursera's platform. Please continue your progress regardless of the check mark. Just click on the \"save\" icon at the top of this notebook to ensure your work has been logged."
   ]
  }
 ],
 "metadata": {},
 "nbformat": 4,
 "nbformat_minor": 5
}
